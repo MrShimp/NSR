{
 "cells": [
  {
   "cell_type": "code",
   "execution_count": 1,
   "metadata": {},
   "outputs": [],
   "source": [
    "from bs4 import BeautifulSoup"
   ]
  },
  {
   "cell_type": "code",
   "execution_count": 2,
   "metadata": {},
   "outputs": [],
   "source": [
    "headers={'User-Agent': 'Mozilla/5.0 (Windows NT 6.3; WOW64) AppleWebKit/537.36 (KHTML, like Gecko) Chrome/57.0.2987.110 Safari/537.36','referer':\"3rww.maps.arcgis.com/apps/webappviewer/index.html?id=a9d29d4710194416b4938a4c9098773e\" }"
   ]
  },
  {
   "cell_type": "code",
   "execution_count": 1,
   "metadata": {},
   "outputs": [
    {
     "name": "stdout",
     "output_type": "stream",
     "text": [
      "start the program\n",
      "b'<!DOCTYPE HTML>\\r\\n<html>\\r\\n<head>\\r\\n  <meta http-equiv=\"Content-Type\" content=\"text/html; charset=utf-8\">\\r\\n  <meta name=\"viewport\" content=\"width=device-width, initial-scale=1.0, maximum-scale=1.0, user-scalable=no\" />\\r\\n  <meta name=\"format-detection\" content=\"telephone=no\">\\r\\n  <meta http-equiv=\"X-UA-Compatible\" content=\"IE=EDGE\" />\\r\\n  <title>ArcGIS Web Application</title>\\r\\n  <link rel=\"shortcut icon\" href=\"images/shortcut.ico\">\\r\\n  <!--[if IE 8]>\\r\\n    <link rel=\"stylesheet\" type=\"text/css\"  href=\"jimu.js/css/jimu-ie.css\" />\\r\\n    <![endif]-->\\r\\n  <style type=\"text/css\">\\r\\n    * {\\r\\n      box-sizing: border-box;\\r\\n    }\\r\\n\\r\\n    body,\\r\\n    html {\\r\\n      width: 100%;\\r\\n      height: 100%;\\r\\n      margin: 0;\\r\\n      padding: 0;\\r\\n      overflow: hidden;\\r\\n    }\\r\\n\\r\\n    #main-loading {\\r\\n      width: 100%;\\r\\n      height: 100%;\\r\\n      text-align: center;\\r\\n      overflow: hidden;\\r\\n    }\\r\\n\\r\\n    #main-loading #ie-note {\\r\\n      position: absolute;\\r\\n      top: 0;\\r\\n      bottom: 0;\\r\\n      left: 0;\\r\\n      right: 0;\\r\\n      margin: auto;\\r\\n    }\\r\\n\\r\\n    #main-loading #ie-note {\\r\\n      width: 586px;\\r\\n      height: 253px;\\r\\n      background-image: url(\\'images/notes.png\\');\\r\\n      padding: 0 30px 40px 30px;\\r\\n      font-size: 14px;\\r\\n      color: #596679;\\r\\n    }\\r\\n\\r\\n    #ie-note .hint-title {\\r\\n      height: 40px;\\r\\n      line-height: 48px;\\r\\n      text-align: left;\\r\\n      font-weight: bold;\\r\\n    }\\r\\n\\r\\n    #ie-note .hint-img {\\r\\n      background-image: url(\\'images/hint.png\\');\\r\\n      background-position: left;\\r\\n      padding-left: 40px;\\r\\n      margin-top: 20px;\\r\\n      background-repeat: no-repeat;\\r\\n      height: 30px;\\r\\n      text-align: left;\\r\\n      line-height: 30px;\\r\\n      font-weight: bold;\\r\\n    }\\r\\n\\r\\n    #ie-note span {\\r\\n      display: block;\\r\\n      line-height: 14px;\\r\\n    }\\r\\n\\r\\n    #main-page {\\r\\n      display: none;\\r\\n      width: 100%;\\r\\n      height: 100%;\\r\\n      position: relative;\\r\\n    }\\r\\n\\r\\n    #jimu-layout-manager {\\r\\n      width: 100%;\\r\\n      height: 100%;\\r\\n      position: absolute;\\r\\n    }\\r\\n  </style>\\r\\n  <link rel=\"stylesheet\" type=\"text/css\" href=\"configs/loading/loading.css\" />\\r\\n  <script>\\r\\n    /*******************************\\r\\n     * This is the function you can modify to customize the loading page\\r\\n     * This function will be invoked when one resource is loaded.\\r\\n     ********************************/\\r\\n    // var progress;\\r\\n    // function loadingCallback(url, i, count) {\\r\\n    // \\tvar loading = document.getElementById(\\'main-loading-bar\\');\\r\\n    // \\tloading.setAttribute(\\'title\\', url);\\r\\n    //   if(!progress){\\r\\n    //     progress = document.createElement(\\'div\\');\\r\\n    //     progress.setAttribute(\\'class\\', \\'loading-progress\\');\\r\\n    //     loading.appendChild(progress);\\r\\n    //   }\\r\\n    //   progress.style.width = (((i - 1)/count) * 100) + \\'%\\';\\r\\n    // }\\r\\n  </script>\\r\\n</head>\\r\\n\\r\\n<body class=\"claro jimu-main-font\">\\r\\n\\r\\n  <div id=\"main-loading\">\\r\\n\\r\\n    <!-- This is section you can modify to customize the loading page -->\\r\\n    <div id=\"app-loading\"></div>\\r\\n    <div id=\"loading-gif\"></div>\\r\\n\\r\\n    <!-- //////////////////    END    ////////////////////////////// -->\\r\\n    <div id=\"ie-note\" style=\"display:none;\">\\r\\n      <div class=\"hint-title\">Error</div>\\r\\n      <div class=\"hint-img\">Your browser is currently not supported.</div>\\r\\n      <p class=\"hint-text\">\\r\\n        <span>\\r\\n          Please note that creating presentations is not supported in Internet Explorer versions 6, 7.\\r\\n        </span>\\r\\n        <br>\\r\\n        <span>\\r\\n          We recommend upgrading to the latest Internet Explorer, Google Chrome, or Firefox.\\r\\n        </span>\\r\\n        <br>\\r\\n        <span>\\r\\n          If you are using IE 8 or later, make sure you turn off \"Compatibility View\".\\r\\n        </span>\\r\\n      </p>\\r\\n    </div>\\r\\n  </div>\\r\\n  <div id=\"main-page\">\\r\\n    <a role=\"link\" id=\"trapLinkNode\" tabindex=\"0\">Trap Link Node</a>\\r\\n    <div id=\"jimu-layout-manager\"></div>\\r\\n    <div id=\"skipContainer\"></div>\\r\\n  </div>\\r\\n\\r\\n  <script src=\"env.js\"></script>\\r\\n  <script type=\"text/javascript\" src=\"simpleLoader.js\"></script>\\r\\n  <script type=\"text/javascript\" src=\"init.js\"></script>\\r\\n</body>\\r\\n\\r\\n</html>'\n"
     ]
    }
   ],
   "source": [
    "import json\n",
    "import os\n",
    "import re\n",
    "import urllib\n",
    "try:\n",
    "    import urllib.request as urllib2\n",
    "except ImportError:\n",
    "    import urllib2\n",
    "from bs4 import BeautifulSoup\n",
    "import sys\n",
    "import os \n",
    "\n",
    "file=open(\"result.txt\",\"w\")\n",
    "url = \"https://wpcgis.maps.arcgis.com/apps/webappviewer/index.html?id=ed86675fd8f545ab82c993149567970a\"\n",
    "def get_data():\n",
    "    sysnom = []\n",
    "    try:\n",
    "        page = urllib2.urlopen(url)\n",
    "        print(page.read())\n",
    "        soup = BeautifulSoup(page, 'html.parser')\n",
    "        name_box = soup.find('svg', attrs={'id': 'map_gc'}).children\n",
    "        for child in name_box:\n",
    "            if child is not None and child.a is not None:\n",
    "                print(child.a.string)\n",
    "                file.write(child.a.string)\n",
    "                file.write('\\n')\n",
    "        #        sysnom.append(child.a.string)\n",
    "        #for i in sysnom:\n",
    "        #    word =  word + \" \" + i\n",
    "    except:\n",
    "        pass\n",
    "    \n",
    "print(\"start the program\")    \n",
    "get_data()\n",
    "\n",
    "       "
   ]
  },
  {
   "cell_type": "code",
   "execution_count": null,
   "metadata": {},
   "outputs": [],
   "source": []
  }
 ],
 "metadata": {
  "kernelspec": {
   "display_name": "Python 3",
   "language": "python",
   "name": "python3"
  },
  "language_info": {
   "codemirror_mode": {
    "name": "ipython",
    "version": 3
   },
   "file_extension": ".py",
   "mimetype": "text/x-python",
   "name": "python",
   "nbconvert_exporter": "python",
   "pygments_lexer": "ipython3",
   "version": "3.6.5"
  }
 },
 "nbformat": 4,
 "nbformat_minor": 2
}
